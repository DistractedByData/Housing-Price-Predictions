{
 "cells": [
  {
   "cell_type": "markdown",
   "id": "6659aa49",
   "metadata": {},
   "source": [
    "# Predicting Housing Prices with Multiple Linear Regression\n",
    "\n",
    "Welcome to this Jupyter notebook where I explore predicting housing prices using Multiple Linear Regression (MLR).\n",
    "\n",
    "This technique, a cornerstone of machine learning, allows us to forecast a target variable by analyzing multiple input features. For this project, I'll be predicting the average absorbed unit cost of residential properties. The term 'absorbed' refers to units that have been sold after the completion of construction.\n",
    "\n",
    "---\n",
    "## Data and Objective\n",
    "My approach will involve the following steps:\n",
    "\n",
    "   - Examine the number of residential units completed each month. Clean the relevant data and prepare it for the regression model.\n",
    "\n",
    "   - Next, analyze the number of absorbed residential units each month. Similar to the first step, this data will be prepared and cleaned.\n",
    "\n",
    "   - Subsequently, I'll save the average absorption price of single-family/attached homes, the target variable, for testing the trained model.\n",
    "\n",
    "   - Lastly, we look into the Housing Price Index (HPI), which gives us insights into the relative changes in housing prices over periods of time.\n",
    "   \n",
    "It should be noted that all training data used is aggregated and sourced from Statistics Canada, specific to Calgary, AB. Moreover, as the primary goal of this project is to provide me with hands-on practice in building and applying Multiple Linear Regression models, the focus is more on the process rather than the absolute accuracy of the model."
   ]
  },
  {
   "cell_type": "code",
   "execution_count": 1,
   "id": "e55441fb",
   "metadata": {},
   "outputs": [],
   "source": [
    "import pandas as pd\n",
    "import matplotlib.pyplot as plt\n",
    "import numpy as np\n",
    "from sklearn.linear_model import LinearRegression"
   ]
  },
  {
   "cell_type": "markdown",
   "id": "224d5113",
   "metadata": {},
   "source": [
    "# Feature 1: Residenital Units Completed Each Month\n",
    "\n",
    "Feature 1 represents the number of residential units completed each month. This data is sourced from the 'res_construction.csv' file. After cleaning and filtering to only include 'Total residential' units, we are left with an array of 16 monthly counts."
   ]
  },
  {
   "cell_type": "code",
   "execution_count": 2,
   "id": "b3bde864",
   "metadata": {},
   "outputs": [],
   "source": [
    "res_con = pd.read_csv('res_construction.csv')"
   ]
  },
  {
   "cell_type": "code",
   "execution_count": 3,
   "id": "e60b8e99",
   "metadata": {},
   "outputs": [],
   "source": [
    "res_con = res_con[['REF_DATE', 'Type of structure', 'VALUE']]"
   ]
  },
  {
   "cell_type": "code",
   "execution_count": 4,
   "id": "a27af0b1",
   "metadata": {},
   "outputs": [],
   "source": [
    "res_con = res_con.rename(columns={'REF_DATE': 'Period','Type of structure': 'Type', 'VALUE':'Count'})"
   ]
  },
  {
   "cell_type": "code",
   "execution_count": 5,
   "id": "10e0ebf9",
   "metadata": {},
   "outputs": [],
   "source": [
    "res_con = res_con[res_con['Type'] == 'Total residential']"
   ]
  },
  {
   "cell_type": "code",
   "execution_count": 6,
   "id": "5fda9800",
   "metadata": {},
   "outputs": [],
   "source": [
    "res_con = res_con.drop('Type', axis=1).set_index('Period', drop=True)"
   ]
  },
  {
   "cell_type": "code",
   "execution_count": 7,
   "id": "d604dfa4",
   "metadata": {},
   "outputs": [
    {
     "data": {
      "text/plain": [
       "((16, 1),\n",
       " Count    int64\n",
       " dtype: object)"
      ]
     },
     "execution_count": 7,
     "metadata": {},
     "output_type": "execute_result"
    }
   ],
   "source": [
    "res_con.shape, res_con.dtypes "
   ]
  },
  {
   "cell_type": "code",
   "execution_count": 8,
   "id": "7630d296",
   "metadata": {},
   "outputs": [],
   "source": [
    "res_con = np.array(res_con)"
   ]
  },
  {
   "cell_type": "code",
   "execution_count": 9,
   "id": "4a93eb7f",
   "metadata": {},
   "outputs": [
    {
     "data": {
      "text/plain": [
       "array([[1251],\n",
       "       [ 805],\n",
       "       [ 970],\n",
       "       [1500],\n",
       "       [1683],\n",
       "       [2045],\n",
       "       [1562],\n",
       "       [1439],\n",
       "       [1373],\n",
       "       [1366],\n",
       "       [1835],\n",
       "       [1429],\n",
       "       [1536],\n",
       "       [1262],\n",
       "       [1265],\n",
       "       [1416]])"
      ]
     },
     "execution_count": 9,
     "metadata": {},
     "output_type": "execute_result"
    }
   ],
   "source": [
    "res_con"
   ]
  },
  {
   "cell_type": "markdown",
   "id": "65f3f305",
   "metadata": {},
   "source": [
    "## Feature 1 Complete: Residential Units Completed Each Month"
   ]
  },
  {
   "cell_type": "markdown",
   "id": "00f2d387",
   "metadata": {},
   "source": [
    "# Feature 2: Completed Units Absorbtion Each Month\n",
    "\n",
    "Feature 2 pertains to the absorption of completed residential units each month. The data is sourced from the 'absorb_units.csv' file. \n",
    "\n",
    "After initial data cleaning, the dataset is then converted into integer format and reshaped into an array with 17 rows and 1 column. To align with the other datasets, the array's length is reduced to 16, representing the count of absorbed units for each corresponding month."
   ]
  },
  {
   "cell_type": "code",
   "execution_count": 10,
   "id": "ed0d45c4",
   "metadata": {},
   "outputs": [],
   "source": [
    "absorb = pd.read_csv('absorb_units.csv')\n",
    "absorb = absorb[['Time','All']].set_index('Time', drop=True)\n",
    "absorb = absorb.rename(columns={'All':'Count'})"
   ]
  },
  {
   "cell_type": "code",
   "execution_count": 11,
   "id": "40313202",
   "metadata": {},
   "outputs": [],
   "source": [
    "absorb = absorb.loc[absorb.index.str.contains('2023|2022')]"
   ]
  },
  {
   "cell_type": "code",
   "execution_count": 12,
   "id": "2d474673",
   "metadata": {},
   "outputs": [],
   "source": [
    "absorb = absorb['Count'].astype('int64')"
   ]
  },
  {
   "cell_type": "code",
   "execution_count": 13,
   "id": "ab58a6eb",
   "metadata": {},
   "outputs": [],
   "source": [
    "absorb = absorb.values.reshape(-1,1)"
   ]
  },
  {
   "cell_type": "code",
   "execution_count": 14,
   "id": "4c3e4647",
   "metadata": {},
   "outputs": [
    {
     "data": {
      "text/plain": [
       "((17, 1), dtype('int64'))"
      ]
     },
     "execution_count": 14,
     "metadata": {},
     "output_type": "execute_result"
    }
   ],
   "source": [
    "absorb.shape, absorb.dtype"
   ]
  },
  {
   "cell_type": "code",
   "execution_count": 15,
   "id": "9ffd7a42",
   "metadata": {},
   "outputs": [
    {
     "data": {
      "text/plain": [
       "(16, 1)"
      ]
     },
     "execution_count": 15,
     "metadata": {},
     "output_type": "execute_result"
    }
   ],
   "source": [
    "absorb = absorb[:-1]\n",
    "absorb.shape"
   ]
  },
  {
   "cell_type": "code",
   "execution_count": 16,
   "id": "bd5c5f55",
   "metadata": {},
   "outputs": [
    {
     "data": {
      "text/plain": [
       "array([[577],\n",
       "       [471],\n",
       "       [548],\n",
       "       [645],\n",
       "       [605],\n",
       "       [656],\n",
       "       [563],\n",
       "       [620],\n",
       "       [588],\n",
       "       [548],\n",
       "       [630],\n",
       "       [705],\n",
       "       [481],\n",
       "       [615],\n",
       "       [657],\n",
       "       [695]])"
      ]
     },
     "execution_count": 16,
     "metadata": {},
     "output_type": "execute_result"
    }
   ],
   "source": [
    "absorb"
   ]
  },
  {
   "cell_type": "markdown",
   "id": "0527e022",
   "metadata": {},
   "source": [
    "## Feature 2 Complete: Abosrbed Residential Units Each Month"
   ]
  },
  {
   "cell_type": "markdown",
   "id": "091b4a1a",
   "metadata": {},
   "source": [
    "# Feature 3: Absorbed Unit Costs (Target Variable)\n",
    "\n",
    "Feature 3, which serves as our target variable, represents the average absorption cost of single family/attached homes each month. The corresponding data is collected from the 'absorb_price.csv' file. After cleaning and filtering, the data for the years 2022 and 2023 is transformed into an integer array with 17 rows and 1 column. To ensure consistency with our other datasets, this array is further trimmed down to 16 entries. \n",
    "\n",
    "However, unlike the other features, this data will not be used for training but will be held back for testing the performance of the machine learning model."
   ]
  },
  {
   "cell_type": "code",
   "execution_count": 17,
   "id": "5a00038b",
   "metadata": {},
   "outputs": [
    {
     "data": {
      "text/html": [
       "<div>\n",
       "<style scoped>\n",
       "    .dataframe tbody tr th:only-of-type {\n",
       "        vertical-align: middle;\n",
       "    }\n",
       "\n",
       "    .dataframe tbody tr th {\n",
       "        vertical-align: top;\n",
       "    }\n",
       "\n",
       "    .dataframe thead th {\n",
       "        text-align: right;\n",
       "    }\n",
       "</style>\n",
       "<table border=\"1\" class=\"dataframe\">\n",
       "  <thead>\n",
       "    <tr style=\"text-align: right;\">\n",
       "      <th></th>\n",
       "      <th>Average</th>\n",
       "    </tr>\n",
       "    <tr>\n",
       "      <th>Time</th>\n",
       "      <th></th>\n",
       "    </tr>\n",
       "  </thead>\n",
       "  <tbody>\n",
       "    <tr>\n",
       "      <th>1990 January</th>\n",
       "      <td>157,461</td>\n",
       "    </tr>\n",
       "    <tr>\n",
       "      <th>1990 February</th>\n",
       "      <td>145,924</td>\n",
       "    </tr>\n",
       "    <tr>\n",
       "      <th>1990 March</th>\n",
       "      <td>153,323</td>\n",
       "    </tr>\n",
       "    <tr>\n",
       "      <th>1990 April</th>\n",
       "      <td>158,684</td>\n",
       "    </tr>\n",
       "    <tr>\n",
       "      <th>1990 May</th>\n",
       "      <td>169,382</td>\n",
       "    </tr>\n",
       "    <tr>\n",
       "      <th>...</th>\n",
       "      <td>...</td>\n",
       "    </tr>\n",
       "    <tr>\n",
       "      <th>2023 February</th>\n",
       "      <td>719,495</td>\n",
       "    </tr>\n",
       "    <tr>\n",
       "      <th>2023 March</th>\n",
       "      <td>721,938</td>\n",
       "    </tr>\n",
       "    <tr>\n",
       "      <th>2023 April</th>\n",
       "      <td>743,584</td>\n",
       "    </tr>\n",
       "    <tr>\n",
       "      <th>2023 May</th>\n",
       "      <td>766,959</td>\n",
       "    </tr>\n",
       "    <tr>\n",
       "      <th>Source</th>\n",
       "      <td>NaN</td>\n",
       "    </tr>\n",
       "  </tbody>\n",
       "</table>\n",
       "<p>402 rows × 1 columns</p>\n",
       "</div>"
      ],
      "text/plain": [
       "               Average\n",
       "Time                  \n",
       "1990 January   157,461\n",
       "1990 February  145,924\n",
       "1990 March     153,323\n",
       "1990 April     158,684\n",
       "1990 May       169,382\n",
       "...                ...\n",
       "2023 February  719,495\n",
       "2023 March     721,938\n",
       "2023 April     743,584\n",
       "2023 May       766,959\n",
       "Source             NaN\n",
       "\n",
       "[402 rows x 1 columns]"
      ]
     },
     "execution_count": 17,
     "metadata": {},
     "output_type": "execute_result"
    }
   ],
   "source": [
    "df = pd.read_csv('absorb_price.csv')\n",
    "df = df[['Time','Average']].set_index('Time', drop=True)\n",
    "df"
   ]
  },
  {
   "cell_type": "code",
   "execution_count": 18,
   "id": "8959dc7c",
   "metadata": {},
   "outputs": [],
   "source": [
    "df = df.loc[df.index.str.contains('2022|2023')]"
   ]
  },
  {
   "cell_type": "code",
   "execution_count": 19,
   "id": "c5fd0ac3",
   "metadata": {},
   "outputs": [],
   "source": [
    "df = df.Average.str.replace(',','').astype('int64')"
   ]
  },
  {
   "cell_type": "code",
   "execution_count": 20,
   "id": "8f1dedd6",
   "metadata": {},
   "outputs": [
    {
     "data": {
      "text/plain": [
       "(17, 1)"
      ]
     },
     "execution_count": 20,
     "metadata": {},
     "output_type": "execute_result"
    }
   ],
   "source": [
    "df = df.values.reshape(-1,1)\n",
    "df.shape"
   ]
  },
  {
   "cell_type": "code",
   "execution_count": 21,
   "id": "1a84e584",
   "metadata": {},
   "outputs": [],
   "source": [
    "df = df[:-1]"
   ]
  },
  {
   "cell_type": "code",
   "execution_count": 22,
   "id": "9246b174",
   "metadata": {},
   "outputs": [
    {
     "data": {
      "text/plain": [
       "(16, 1)"
      ]
     },
     "execution_count": 22,
     "metadata": {},
     "output_type": "execute_result"
    }
   ],
   "source": [
    "df.shape"
   ]
  },
  {
   "cell_type": "code",
   "execution_count": 23,
   "id": "04b64561",
   "metadata": {},
   "outputs": [
    {
     "data": {
      "text/plain": [
       "array([[620090],\n",
       "       [630697],\n",
       "       [652992],\n",
       "       [651990],\n",
       "       [689070],\n",
       "       [683979],\n",
       "       [657916],\n",
       "       [720625],\n",
       "       [707905],\n",
       "       [690682],\n",
       "       [700049],\n",
       "       [737179],\n",
       "       [699978],\n",
       "       [719495],\n",
       "       [721938],\n",
       "       [743584]])"
      ]
     },
     "execution_count": 23,
     "metadata": {},
     "output_type": "execute_result"
    }
   ],
   "source": [
    "df"
   ]
  },
  {
   "cell_type": "markdown",
   "id": "73ad3dc6",
   "metadata": {},
   "source": [
    "## Feature 3 Complete: AVG. Absorbiton Price of Single Family/Attached Homes"
   ]
  },
  {
   "cell_type": "markdown",
   "id": "7f417f62",
   "metadata": {},
   "source": [
    "# Feature 4: Housing Price Index - Composite\n",
    "\n",
    "Feature 4, the Housing Price Index - Composite (HPI), is an important indicator of market trends. The relevant data is extracted from the 'comp_hpi.csv' file. \n",
    "\n",
    "After setting 'Period' as the index, the data is reshaped into an array with 17 rows and 1 column. I then ensure consistency with the other feature datasets, so the last entry is removed, leaving us with 16 entries. These represent the composite HPI for specific months within the years 2022 and 2023."
   ]
  },
  {
   "cell_type": "code",
   "execution_count": 24,
   "id": "39417bde",
   "metadata": {},
   "outputs": [
    {
     "data": {
      "text/html": [
       "<div>\n",
       "<style scoped>\n",
       "    .dataframe tbody tr th:only-of-type {\n",
       "        vertical-align: middle;\n",
       "    }\n",
       "\n",
       "    .dataframe tbody tr th {\n",
       "        vertical-align: top;\n",
       "    }\n",
       "\n",
       "    .dataframe thead th {\n",
       "        text-align: right;\n",
       "    }\n",
       "</style>\n",
       "<table border=\"1\" class=\"dataframe\">\n",
       "  <thead>\n",
       "    <tr style=\"text-align: right;\">\n",
       "      <th></th>\n",
       "      <th>HPI</th>\n",
       "    </tr>\n",
       "    <tr>\n",
       "      <th>Period</th>\n",
       "      <th></th>\n",
       "    </tr>\n",
       "  </thead>\n",
       "  <tbody>\n",
       "    <tr>\n",
       "      <th>Jan 2022</th>\n",
       "      <td>227.1</td>\n",
       "    </tr>\n",
       "    <tr>\n",
       "      <th>Feb 2022</th>\n",
       "      <td>240.4</td>\n",
       "    </tr>\n",
       "    <tr>\n",
       "      <th>Mar 2022</th>\n",
       "      <td>247.2</td>\n",
       "    </tr>\n",
       "    <tr>\n",
       "      <th>Apr 2022</th>\n",
       "      <td>250.9</td>\n",
       "    </tr>\n",
       "    <tr>\n",
       "      <th>May 2022</th>\n",
       "      <td>251.4</td>\n",
       "    </tr>\n",
       "    <tr>\n",
       "      <th>Jun 2022</th>\n",
       "      <td>250.6</td>\n",
       "    </tr>\n",
       "    <tr>\n",
       "      <th>Jul 2022</th>\n",
       "      <td>249.0</td>\n",
       "    </tr>\n",
       "    <tr>\n",
       "      <th>Aug 2022</th>\n",
       "      <td>246.2</td>\n",
       "    </tr>\n",
       "    <tr>\n",
       "      <th>Sep 2022</th>\n",
       "      <td>244.0</td>\n",
       "    </tr>\n",
       "    <tr>\n",
       "      <th>Oct 2022</th>\n",
       "      <td>242.3</td>\n",
       "    </tr>\n",
       "    <tr>\n",
       "      <th>Nov 2022</th>\n",
       "      <td>240.6</td>\n",
       "    </tr>\n",
       "    <tr>\n",
       "      <th>Dec 2022</th>\n",
       "      <td>239.3</td>\n",
       "    </tr>\n",
       "    <tr>\n",
       "      <th>Jan 2023</th>\n",
       "      <td>241.3</td>\n",
       "    </tr>\n",
       "    <tr>\n",
       "      <th>Feb 2023</th>\n",
       "      <td>245.9</td>\n",
       "    </tr>\n",
       "    <tr>\n",
       "      <th>Mar 2023</th>\n",
       "      <td>249.6</td>\n",
       "    </tr>\n",
       "    <tr>\n",
       "      <th>Apr 2023</th>\n",
       "      <td>254.7</td>\n",
       "    </tr>\n",
       "    <tr>\n",
       "      <th>May 2023</th>\n",
       "      <td>257.8</td>\n",
       "    </tr>\n",
       "  </tbody>\n",
       "</table>\n",
       "</div>"
      ],
      "text/plain": [
       "            HPI\n",
       "Period         \n",
       "Jan 2022  227.1\n",
       "Feb 2022  240.4\n",
       "Mar 2022  247.2\n",
       "Apr 2022  250.9\n",
       "May 2022  251.4\n",
       "Jun 2022  250.6\n",
       "Jul 2022  249.0\n",
       "Aug 2022  246.2\n",
       "Sep 2022  244.0\n",
       "Oct 2022  242.3\n",
       "Nov 2022  240.6\n",
       "Dec 2022  239.3\n",
       "Jan 2023  241.3\n",
       "Feb 2023  245.9\n",
       "Mar 2023  249.6\n",
       "Apr 2023  254.7\n",
       "May 2023  257.8"
      ]
     },
     "execution_count": 24,
     "metadata": {},
     "output_type": "execute_result"
    }
   ],
   "source": [
    "df_hpi = pd.read_csv('comp_hpi.csv')\n",
    "df_hpi = df_hpi[['Period','HPI']].set_index('Period', drop=True)\n",
    "df_hpi"
   ]
  },
  {
   "cell_type": "code",
   "execution_count": 25,
   "id": "716423bf",
   "metadata": {},
   "outputs": [
    {
     "data": {
      "text/plain": [
       "((17, 1), dtype('float64'))"
      ]
     },
     "execution_count": 25,
     "metadata": {},
     "output_type": "execute_result"
    }
   ],
   "source": [
    "df_hpi = df_hpi.values.reshape(-1,1)\n",
    "df_hpi.shape, df_hpi.dtype"
   ]
  },
  {
   "cell_type": "code",
   "execution_count": 26,
   "id": "c4a27f89",
   "metadata": {},
   "outputs": [],
   "source": [
    "df_hpi = df_hpi[:-1]"
   ]
  },
  {
   "cell_type": "code",
   "execution_count": 37,
   "id": "8f9942c0",
   "metadata": {},
   "outputs": [
    {
     "data": {
      "text/plain": [
       "array([[227.1],\n",
       "       [240.4],\n",
       "       [247.2],\n",
       "       [250.9],\n",
       "       [251.4],\n",
       "       [250.6],\n",
       "       [249. ],\n",
       "       [246.2],\n",
       "       [244. ],\n",
       "       [242.3],\n",
       "       [240.6],\n",
       "       [239.3],\n",
       "       [241.3],\n",
       "       [245.9],\n",
       "       [249.6],\n",
       "       [254.7]])"
      ]
     },
     "execution_count": 37,
     "metadata": {},
     "output_type": "execute_result"
    }
   ],
   "source": [
    "df_hpi"
   ]
  },
  {
   "cell_type": "markdown",
   "id": "ff4854ed",
   "metadata": {},
   "source": [
    "## Feature 4 Completed: Housing Price Index - Composite"
   ]
  },
  {
   "cell_type": "markdown",
   "id": "a7843a62",
   "metadata": {},
   "source": [
    "# Training The Model\n",
    "\n",
    "After completion of data extraction and cleaning, Feature 1 (Residential Units Completed Each Month), Feature 2 (Absorbed Residential Units Each Month), and Feature 4 (Housing Price Index - Composite) are concatenated into a single dataset, which will be used as the feature set for the machine learning model.\n",
    "\n",
    "The target dataset is created using Feature 3 (Absorbed Unit Costs), which is not used in the model's training but rather for testing its performance.\n",
    "\n",
    "The model's performance is gauged using the R-squared score, which is printed out to provide a quantitative measure of the model's predictive power."
   ]
  },
  {
   "cell_type": "code",
   "execution_count": 27,
   "id": "10092115",
   "metadata": {},
   "outputs": [],
   "source": [
    "features = np.concatenate((res_con,absorb,df_hpi), axis=1)"
   ]
  },
  {
   "cell_type": "code",
   "execution_count": 28,
   "id": "a00febea",
   "metadata": {},
   "outputs": [],
   "source": [
    "target = df"
   ]
  },
  {
   "cell_type": "code",
   "execution_count": 29,
   "id": "3fb051f1",
   "metadata": {},
   "outputs": [],
   "source": [
    "model = LinearRegression()"
   ]
  },
  {
   "cell_type": "code",
   "execution_count": 30,
   "id": "12f17888",
   "metadata": {},
   "outputs": [
    {
     "data": {
      "text/html": [
       "<style>#sk-container-id-1 {color: black;}#sk-container-id-1 pre{padding: 0;}#sk-container-id-1 div.sk-toggleable {background-color: white;}#sk-container-id-1 label.sk-toggleable__label {cursor: pointer;display: block;width: 100%;margin-bottom: 0;padding: 0.3em;box-sizing: border-box;text-align: center;}#sk-container-id-1 label.sk-toggleable__label-arrow:before {content: \"▸\";float: left;margin-right: 0.25em;color: #696969;}#sk-container-id-1 label.sk-toggleable__label-arrow:hover:before {color: black;}#sk-container-id-1 div.sk-estimator:hover label.sk-toggleable__label-arrow:before {color: black;}#sk-container-id-1 div.sk-toggleable__content {max-height: 0;max-width: 0;overflow: hidden;text-align: left;background-color: #f0f8ff;}#sk-container-id-1 div.sk-toggleable__content pre {margin: 0.2em;color: black;border-radius: 0.25em;background-color: #f0f8ff;}#sk-container-id-1 input.sk-toggleable__control:checked~div.sk-toggleable__content {max-height: 200px;max-width: 100%;overflow: auto;}#sk-container-id-1 input.sk-toggleable__control:checked~label.sk-toggleable__label-arrow:before {content: \"▾\";}#sk-container-id-1 div.sk-estimator input.sk-toggleable__control:checked~label.sk-toggleable__label {background-color: #d4ebff;}#sk-container-id-1 div.sk-label input.sk-toggleable__control:checked~label.sk-toggleable__label {background-color: #d4ebff;}#sk-container-id-1 input.sk-hidden--visually {border: 0;clip: rect(1px 1px 1px 1px);clip: rect(1px, 1px, 1px, 1px);height: 1px;margin: -1px;overflow: hidden;padding: 0;position: absolute;width: 1px;}#sk-container-id-1 div.sk-estimator {font-family: monospace;background-color: #f0f8ff;border: 1px dotted black;border-radius: 0.25em;box-sizing: border-box;margin-bottom: 0.5em;}#sk-container-id-1 div.sk-estimator:hover {background-color: #d4ebff;}#sk-container-id-1 div.sk-parallel-item::after {content: \"\";width: 100%;border-bottom: 1px solid gray;flex-grow: 1;}#sk-container-id-1 div.sk-label:hover label.sk-toggleable__label {background-color: #d4ebff;}#sk-container-id-1 div.sk-serial::before {content: \"\";position: absolute;border-left: 1px solid gray;box-sizing: border-box;top: 0;bottom: 0;left: 50%;z-index: 0;}#sk-container-id-1 div.sk-serial {display: flex;flex-direction: column;align-items: center;background-color: white;padding-right: 0.2em;padding-left: 0.2em;position: relative;}#sk-container-id-1 div.sk-item {position: relative;z-index: 1;}#sk-container-id-1 div.sk-parallel {display: flex;align-items: stretch;justify-content: center;background-color: white;position: relative;}#sk-container-id-1 div.sk-item::before, #sk-container-id-1 div.sk-parallel-item::before {content: \"\";position: absolute;border-left: 1px solid gray;box-sizing: border-box;top: 0;bottom: 0;left: 50%;z-index: -1;}#sk-container-id-1 div.sk-parallel-item {display: flex;flex-direction: column;z-index: 1;position: relative;background-color: white;}#sk-container-id-1 div.sk-parallel-item:first-child::after {align-self: flex-end;width: 50%;}#sk-container-id-1 div.sk-parallel-item:last-child::after {align-self: flex-start;width: 50%;}#sk-container-id-1 div.sk-parallel-item:only-child::after {width: 0;}#sk-container-id-1 div.sk-dashed-wrapped {border: 1px dashed gray;margin: 0 0.4em 0.5em 0.4em;box-sizing: border-box;padding-bottom: 0.4em;background-color: white;}#sk-container-id-1 div.sk-label label {font-family: monospace;font-weight: bold;display: inline-block;line-height: 1.2em;}#sk-container-id-1 div.sk-label-container {text-align: center;}#sk-container-id-1 div.sk-container {/* jupyter's `normalize.less` sets `[hidden] { display: none; }` but bootstrap.min.css set `[hidden] { display: none !important; }` so we also need the `!important` here to be able to override the default hidden behavior on the sphinx rendered scikit-learn.org. See: https://github.com/scikit-learn/scikit-learn/issues/21755 */display: inline-block !important;position: relative;}#sk-container-id-1 div.sk-text-repr-fallback {display: none;}</style><div id=\"sk-container-id-1\" class=\"sk-top-container\"><div class=\"sk-text-repr-fallback\"><pre>LinearRegression()</pre><b>In a Jupyter environment, please rerun this cell to show the HTML representation or trust the notebook. <br />On GitHub, the HTML representation is unable to render, please try loading this page with nbviewer.org.</b></div><div class=\"sk-container\" hidden><div class=\"sk-item\"><div class=\"sk-estimator sk-toggleable\"><input class=\"sk-toggleable__control sk-hidden--visually\" id=\"sk-estimator-id-1\" type=\"checkbox\" checked><label for=\"sk-estimator-id-1\" class=\"sk-toggleable__label sk-toggleable__label-arrow\">LinearRegression</label><div class=\"sk-toggleable__content\"><pre>LinearRegression()</pre></div></div></div></div></div>"
      ],
      "text/plain": [
       "LinearRegression()"
      ]
     },
     "execution_count": 30,
     "metadata": {},
     "output_type": "execute_result"
    }
   ],
   "source": [
    "model.fit(features,target)"
   ]
  },
  {
   "cell_type": "code",
   "execution_count": 31,
   "id": "9481c646",
   "metadata": {},
   "outputs": [],
   "source": [
    "# target: 766,959"
   ]
  },
  {
   "cell_type": "code",
   "execution_count": 32,
   "id": "f6d9ba7c",
   "metadata": {},
   "outputs": [],
   "source": [
    "next_month_absorb = 948\n",
    "next_month_res_con = 1400\n",
    "next_month_df_hpi = 257.8\n",
    "\n",
    "next_month_features = np.array([[next_month_res_con, next_month_absorb, next_month_df_hpi]])"
   ]
  },
  {
   "cell_type": "code",
   "execution_count": 33,
   "id": "a3b7fd26",
   "metadata": {},
   "outputs": [
    {
     "data": {
      "text/plain": [
       "array([[800745.29661285]])"
      ]
     },
     "execution_count": 33,
     "metadata": {},
     "output_type": "execute_result"
    }
   ],
   "source": [
    "prediction = model.predict(next_month_features)\n",
    "prediction"
   ]
  },
  {
   "cell_type": "code",
   "execution_count": 34,
   "id": "d61014d7",
   "metadata": {},
   "outputs": [
    {
     "name": "stdout",
     "output_type": "stream",
     "text": [
      "R-Squared Score is 0.37814278255725453\n"
     ]
    }
   ],
   "source": [
    "score = model.score(features,df)\n",
    "\n",
    "print(f\"R-Squared Score is {score}\")"
   ]
  },
  {
   "cell_type": "markdown",
   "id": "ec8efa4e",
   "metadata": {},
   "source": [
    "## Summary\n",
    "\n",
    "This project allowed me to dive deep into the core concepts of MLR and its real-world applications. Even though the model's performance wasn't high, I recognize the importance of hands-on experience and the lessons gained throughout the process. \n",
    "\n",
    "I am excited to explore more datasets, try different types of regression techniques, and experiment with more advanced machine learning models to boost the predictive power of my future projects. "
   ]
  }
 ],
 "metadata": {
  "kernelspec": {
   "display_name": "Python 3 (ipykernel)",
   "language": "python",
   "name": "python3"
  },
  "language_info": {
   "codemirror_mode": {
    "name": "ipython",
    "version": 3
   },
   "file_extension": ".py",
   "mimetype": "text/x-python",
   "name": "python",
   "nbconvert_exporter": "python",
   "pygments_lexer": "ipython3",
   "version": "3.11.3"
  }
 },
 "nbformat": 4,
 "nbformat_minor": 5
}
