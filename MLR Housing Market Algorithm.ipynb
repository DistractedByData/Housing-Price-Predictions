{
 "cells": [
  {
   "cell_type": "code",
   "execution_count": 1,
   "id": "e55441fb",
   "metadata": {},
   "outputs": [],
   "source": [
    "import pandas as pd\n",
    "import matplotlib.pyplot as plt\n",
    "import numpy as np\n",
    "from sklearn.linear_model import LinearRegression"
   ]
  },
  {
   "cell_type": "markdown",
   "id": "76909f02",
   "metadata": {},
   "source": [
    "# Feature 1: Residenital Units Completed Each Month"
   ]
  },
  {
   "cell_type": "code",
   "execution_count": 2,
   "id": "c13cb78b",
   "metadata": {},
   "outputs": [],
   "source": [
    "res_con = pd.read_csv('res_construction.csv')"
   ]
  },
  {
   "cell_type": "code",
   "execution_count": 3,
   "id": "c09e8ac6",
   "metadata": {},
   "outputs": [],
   "source": [
    "res_con = res_con[['REF_DATE', 'Type of structure', 'VALUE']]"
   ]
  },
  {
   "cell_type": "code",
   "execution_count": 4,
   "id": "f82e673b",
   "metadata": {},
   "outputs": [],
   "source": [
    "res_con = res_con.rename(columns={'REF_DATE': 'Period','Type of structure': 'Type', 'VALUE':'Count'})"
   ]
  },
  {
   "cell_type": "code",
   "execution_count": 5,
   "id": "8caff784",
   "metadata": {},
   "outputs": [],
   "source": [
    "res_con = res_con[res_con['Type'] == 'Total residential']"
   ]
  },
  {
   "cell_type": "code",
   "execution_count": 6,
   "id": "8e1218cf",
   "metadata": {},
   "outputs": [],
   "source": [
    "res_con = res_con.drop('Type', axis=1).set_index('Period', drop=True)"
   ]
  },
  {
   "cell_type": "code",
   "execution_count": 7,
   "id": "abcf0dd1",
   "metadata": {},
   "outputs": [
    {
     "data": {
      "text/plain": [
       "((16, 1),\n",
       " Count    int64\n",
       " dtype: object)"
      ]
     },
     "execution_count": 7,
     "metadata": {},
     "output_type": "execute_result"
    }
   ],
   "source": [
    "res_con.shape, res_con.dtypes "
   ]
  },
  {
   "cell_type": "code",
   "execution_count": 8,
   "id": "8cceaaa8",
   "metadata": {},
   "outputs": [],
   "source": [
    "res_con = np.array(res_con)"
   ]
  },
  {
   "cell_type": "code",
   "execution_count": 9,
   "id": "ddf6d368",
   "metadata": {},
   "outputs": [
    {
     "data": {
      "text/plain": [
       "array([[1251],\n",
       "       [ 805],\n",
       "       [ 970],\n",
       "       [1500],\n",
       "       [1683],\n",
       "       [2045],\n",
       "       [1562],\n",
       "       [1439],\n",
       "       [1373],\n",
       "       [1366],\n",
       "       [1835],\n",
       "       [1429],\n",
       "       [1536],\n",
       "       [1262],\n",
       "       [1265],\n",
       "       [1416]])"
      ]
     },
     "execution_count": 9,
     "metadata": {},
     "output_type": "execute_result"
    }
   ],
   "source": [
    "res_con"
   ]
  },
  {
   "cell_type": "markdown",
   "id": "1eb9d01a",
   "metadata": {},
   "source": [
    "## Feature 1 Complete: Residential Units Completed Each Month"
   ]
  },
  {
   "cell_type": "markdown",
   "id": "e35826c0",
   "metadata": {},
   "source": [
    "# Feature 2: Completed Units Absorbtion Each Month"
   ]
  },
  {
   "cell_type": "code",
   "execution_count": 10,
   "id": "15efd4c8",
   "metadata": {},
   "outputs": [],
   "source": [
    "df = pd.read_csv('absorb_units.csv')\n",
    "df = df[['Time','All']].set_index('Time', drop=True)\n",
    "df = df.rename(columns={'All':'Count'})"
   ]
  },
  {
   "cell_type": "code",
   "execution_count": 11,
   "id": "0ef9191e",
   "metadata": {},
   "outputs": [],
   "source": [
    "df = df.loc[df.index.str.contains('2023|2022')]"
   ]
  },
  {
   "cell_type": "code",
   "execution_count": 12,
   "id": "e3324756",
   "metadata": {},
   "outputs": [],
   "source": [
    "df = df['Count'].astype('int64')"
   ]
  },
  {
   "cell_type": "code",
   "execution_count": 13,
   "id": "7e806840",
   "metadata": {},
   "outputs": [],
   "source": [
    "df = df.values.reshape(-1,1)"
   ]
  },
  {
   "cell_type": "code",
   "execution_count": 14,
   "id": "d3eb11f2",
   "metadata": {},
   "outputs": [
    {
     "data": {
      "text/plain": [
       "((17, 1), dtype('int64'))"
      ]
     },
     "execution_count": 14,
     "metadata": {},
     "output_type": "execute_result"
    }
   ],
   "source": [
    "df.shape, df.dtype"
   ]
  },
  {
   "cell_type": "code",
   "execution_count": 15,
   "id": "af479181",
   "metadata": {},
   "outputs": [
    {
     "data": {
      "text/plain": [
       "array([[577],\n",
       "       [471],\n",
       "       [548],\n",
       "       [645],\n",
       "       [605],\n",
       "       [656],\n",
       "       [563],\n",
       "       [620],\n",
       "       [588],\n",
       "       [548],\n",
       "       [630],\n",
       "       [705],\n",
       "       [481],\n",
       "       [615],\n",
       "       [657],\n",
       "       [695],\n",
       "       [948]])"
      ]
     },
     "execution_count": 15,
     "metadata": {},
     "output_type": "execute_result"
    }
   ],
   "source": [
    "df"
   ]
  },
  {
   "cell_type": "markdown",
   "id": "e0b89414",
   "metadata": {},
   "source": [
    "## Feature 2 Complete: Abosrbed Residential Units Each Month"
   ]
  },
  {
   "cell_type": "markdown",
   "id": "c25b5e1e",
   "metadata": {},
   "source": [
    "# Feature 3: Absorbed Unit Costs"
   ]
  },
  {
   "cell_type": "code",
   "execution_count": 16,
   "id": "12226334",
   "metadata": {},
   "outputs": [
    {
     "data": {
      "text/html": [
       "<div>\n",
       "<style scoped>\n",
       "    .dataframe tbody tr th:only-of-type {\n",
       "        vertical-align: middle;\n",
       "    }\n",
       "\n",
       "    .dataframe tbody tr th {\n",
       "        vertical-align: top;\n",
       "    }\n",
       "\n",
       "    .dataframe thead th {\n",
       "        text-align: right;\n",
       "    }\n",
       "</style>\n",
       "<table border=\"1\" class=\"dataframe\">\n",
       "  <thead>\n",
       "    <tr style=\"text-align: right;\">\n",
       "      <th></th>\n",
       "      <th>Average</th>\n",
       "    </tr>\n",
       "    <tr>\n",
       "      <th>Time</th>\n",
       "      <th></th>\n",
       "    </tr>\n",
       "  </thead>\n",
       "  <tbody>\n",
       "    <tr>\n",
       "      <th>1990 January</th>\n",
       "      <td>157,461</td>\n",
       "    </tr>\n",
       "    <tr>\n",
       "      <th>1990 February</th>\n",
       "      <td>145,924</td>\n",
       "    </tr>\n",
       "    <tr>\n",
       "      <th>1990 March</th>\n",
       "      <td>153,323</td>\n",
       "    </tr>\n",
       "    <tr>\n",
       "      <th>1990 April</th>\n",
       "      <td>158,684</td>\n",
       "    </tr>\n",
       "    <tr>\n",
       "      <th>1990 May</th>\n",
       "      <td>169,382</td>\n",
       "    </tr>\n",
       "    <tr>\n",
       "      <th>...</th>\n",
       "      <td>...</td>\n",
       "    </tr>\n",
       "    <tr>\n",
       "      <th>2023 February</th>\n",
       "      <td>719,495</td>\n",
       "    </tr>\n",
       "    <tr>\n",
       "      <th>2023 March</th>\n",
       "      <td>721,938</td>\n",
       "    </tr>\n",
       "    <tr>\n",
       "      <th>2023 April</th>\n",
       "      <td>743,584</td>\n",
       "    </tr>\n",
       "    <tr>\n",
       "      <th>2023 May</th>\n",
       "      <td>766,959</td>\n",
       "    </tr>\n",
       "    <tr>\n",
       "      <th>Source</th>\n",
       "      <td>NaN</td>\n",
       "    </tr>\n",
       "  </tbody>\n",
       "</table>\n",
       "<p>402 rows × 1 columns</p>\n",
       "</div>"
      ],
      "text/plain": [
       "               Average\n",
       "Time                  \n",
       "1990 January   157,461\n",
       "1990 February  145,924\n",
       "1990 March     153,323\n",
       "1990 April     158,684\n",
       "1990 May       169,382\n",
       "...                ...\n",
       "2023 February  719,495\n",
       "2023 March     721,938\n",
       "2023 April     743,584\n",
       "2023 May       766,959\n",
       "Source             NaN\n",
       "\n",
       "[402 rows x 1 columns]"
      ]
     },
     "execution_count": 16,
     "metadata": {},
     "output_type": "execute_result"
    }
   ],
   "source": [
    "df = pd.read_csv('absorb_price.csv')\n",
    "df = df[['Time','Average']].set_index('Time', drop=True)\n",
    "df"
   ]
  },
  {
   "cell_type": "code",
   "execution_count": 17,
   "id": "0acb0791",
   "metadata": {},
   "outputs": [],
   "source": [
    "df = df.loc[df.index.str.contains('2022|2023')]"
   ]
  },
  {
   "cell_type": "code",
   "execution_count": 18,
   "id": "3d01e132",
   "metadata": {},
   "outputs": [],
   "source": [
    "df = df.Average.str.replace(',','').astype('int64')"
   ]
  },
  {
   "cell_type": "code",
   "execution_count": 19,
   "id": "8184b178",
   "metadata": {},
   "outputs": [
    {
     "data": {
      "text/plain": [
       "(17, 1)"
      ]
     },
     "execution_count": 19,
     "metadata": {},
     "output_type": "execute_result"
    }
   ],
   "source": [
    "df = df.values.reshape(-1,1)\n",
    "df.shape"
   ]
  },
  {
   "cell_type": "code",
   "execution_count": 20,
   "id": "f3b48659",
   "metadata": {},
   "outputs": [
    {
     "data": {
      "text/plain": [
       "array([[620090],\n",
       "       [630697],\n",
       "       [652992],\n",
       "       [651990],\n",
       "       [689070],\n",
       "       [683979],\n",
       "       [657916],\n",
       "       [720625],\n",
       "       [707905],\n",
       "       [690682],\n",
       "       [700049],\n",
       "       [737179],\n",
       "       [699978],\n",
       "       [719495],\n",
       "       [721938],\n",
       "       [743584],\n",
       "       [766959]])"
      ]
     },
     "execution_count": 20,
     "metadata": {},
     "output_type": "execute_result"
    }
   ],
   "source": [
    "df"
   ]
  },
  {
   "cell_type": "markdown",
   "id": "ae835d5d",
   "metadata": {},
   "source": [
    "## Feature 3 Complete: AVG. Absorbiton Price of Single Family/Attached Homes"
   ]
  },
  {
   "cell_type": "code",
   "execution_count": 21,
   "id": "a901379c",
   "metadata": {},
   "outputs": [],
   "source": [
    "# Feature 4: "
   ]
  }
 ],
 "metadata": {
  "kernelspec": {
   "display_name": "Python 3 (ipykernel)",
   "language": "python",
   "name": "python3"
  },
  "language_info": {
   "codemirror_mode": {
    "name": "ipython",
    "version": 3
   },
   "file_extension": ".py",
   "mimetype": "text/x-python",
   "name": "python",
   "nbconvert_exporter": "python",
   "pygments_lexer": "ipython3",
   "version": "3.11.3"
  }
 },
 "nbformat": 4,
 "nbformat_minor": 5
}
