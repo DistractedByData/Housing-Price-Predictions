{
 "cells": [
  {
   "cell_type": "code",
   "execution_count": 61,
   "id": "e55441fb",
   "metadata": {},
   "outputs": [],
   "source": [
    "import pandas as pd\n",
    "import matplotlib.pyplot as plt\n",
    "import numpy as np\n",
    "from sklearn.linear_model import LinearRegression"
   ]
  },
  {
   "cell_type": "markdown",
   "id": "b59eb00c",
   "metadata": {},
   "source": [
    "# Feature 1: Residenital Units Completed Each Month"
   ]
  },
  {
   "cell_type": "code",
   "execution_count": 62,
   "id": "a2d429d8",
   "metadata": {},
   "outputs": [],
   "source": [
    "res_con = pd.read_csv('res_construction.csv')"
   ]
  },
  {
   "cell_type": "code",
   "execution_count": 63,
   "id": "19b68868",
   "metadata": {},
   "outputs": [],
   "source": [
    "res_con = res_con[['REF_DATE', 'Type of structure', 'VALUE']]"
   ]
  },
  {
   "cell_type": "code",
   "execution_count": 64,
   "id": "98c945bd",
   "metadata": {},
   "outputs": [],
   "source": [
    "res_con = res_con.rename(columns={'REF_DATE': 'Period','Type of structure': 'Type', 'VALUE':'Count'})"
   ]
  },
  {
   "cell_type": "code",
   "execution_count": 65,
   "id": "aff7ea56",
   "metadata": {},
   "outputs": [],
   "source": [
    "res_con = res_con[res_con['Type'] == 'Total residential']"
   ]
  },
  {
   "cell_type": "code",
   "execution_count": 66,
   "id": "d7af9d76",
   "metadata": {},
   "outputs": [],
   "source": [
    "res_con = res_con.drop('Type', axis=1).set_index('Period', drop=True)"
   ]
  },
  {
   "cell_type": "code",
   "execution_count": 68,
   "id": "12f10247",
   "metadata": {},
   "outputs": [
    {
     "data": {
      "text/plain": [
       "((16, 1),\n",
       " Count    int64\n",
       " dtype: object)"
      ]
     },
     "execution_count": 68,
     "metadata": {},
     "output_type": "execute_result"
    }
   ],
   "source": [
    "res_con.shape, res_con.dtypes "
   ]
  },
  {
   "cell_type": "markdown",
   "id": "949b5649",
   "metadata": {},
   "source": [
    "## Feature 1 Complete: Residential Units Completed Each Month"
   ]
  },
  {
   "cell_type": "markdown",
   "id": "4ba1f5bb",
   "metadata": {},
   "source": [
    "# Feature 2: Completed Units Absorbtion Each Month"
   ]
  },
  {
   "cell_type": "code",
   "execution_count": 106,
   "id": "aa64e6e3",
   "metadata": {},
   "outputs": [],
   "source": [
    "df = pd.read_csv('absorb_units.csv')\n",
    "df = df[['Time','All']].set_index('Time', drop=True)\n",
    "df = df.rename(columns={'All':'Count'})"
   ]
  },
  {
   "cell_type": "code",
   "execution_count": 107,
   "id": "2980dbfd",
   "metadata": {},
   "outputs": [
    {
     "data": {
      "text/plain": [
       "((402, 1),\n",
       " Count    object\n",
       " dtype: object)"
      ]
     },
     "execution_count": 107,
     "metadata": {},
     "output_type": "execute_result"
    }
   ],
   "source": [
    "df.shape, df.dtypes"
   ]
  },
  {
   "cell_type": "code",
   "execution_count": 108,
   "id": "ec048818",
   "metadata": {},
   "outputs": [],
   "source": [
    "df = df.loc[df.index.str.contains('2023|2022')]"
   ]
  },
  {
   "cell_type": "code",
   "execution_count": 109,
   "id": "0a1985ee",
   "metadata": {},
   "outputs": [],
   "source": [
    "df = df['Count'].astype('int64')"
   ]
  },
  {
   "cell_type": "code",
   "execution_count": 110,
   "id": "6b420800",
   "metadata": {},
   "outputs": [
    {
     "data": {
      "text/plain": [
       "Time\n",
       "Jan 2022    577\n",
       "Feb 2022    471\n",
       "Mar 2022    548\n",
       "Apr 2022    645\n",
       "May 2022    605\n",
       "Jun 2022    656\n",
       "Jul 2022    563\n",
       "Aug 2022    620\n",
       "Sep 2022    588\n",
       "Oct 2022    548\n",
       "Nov 2022    630\n",
       "Dec 2022    705\n",
       "Jan 2023    481\n",
       "Feb 2023    615\n",
       "Mar 2023    657\n",
       "Apr 2023    695\n",
       "May 2023    948\n",
       "Name: Count, dtype: int64"
      ]
     },
     "execution_count": 110,
     "metadata": {},
     "output_type": "execute_result"
    }
   ],
   "source": [
    "df"
   ]
  },
  {
   "cell_type": "markdown",
   "id": "b9b7c142",
   "metadata": {},
   "source": [
    "## Feature 2 Complete: Abosrbed Residential Units Each Month"
   ]
  },
  {
   "cell_type": "markdown",
   "id": "203c55e9",
   "metadata": {},
   "source": [
    "# Feature 3: Absorbed Unit Costs"
   ]
  },
  {
   "cell_type": "code",
   "execution_count": 162,
   "id": "eea313fe",
   "metadata": {},
   "outputs": [
    {
     "data": {
      "text/html": [
       "<div>\n",
       "<style scoped>\n",
       "    .dataframe tbody tr th:only-of-type {\n",
       "        vertical-align: middle;\n",
       "    }\n",
       "\n",
       "    .dataframe tbody tr th {\n",
       "        vertical-align: top;\n",
       "    }\n",
       "\n",
       "    .dataframe thead th {\n",
       "        text-align: right;\n",
       "    }\n",
       "</style>\n",
       "<table border=\"1\" class=\"dataframe\">\n",
       "  <thead>\n",
       "    <tr style=\"text-align: right;\">\n",
       "      <th></th>\n",
       "      <th>Average</th>\n",
       "    </tr>\n",
       "    <tr>\n",
       "      <th>Time</th>\n",
       "      <th></th>\n",
       "    </tr>\n",
       "  </thead>\n",
       "  <tbody>\n",
       "    <tr>\n",
       "      <th>1990 January</th>\n",
       "      <td>157,461</td>\n",
       "    </tr>\n",
       "    <tr>\n",
       "      <th>1990 February</th>\n",
       "      <td>145,924</td>\n",
       "    </tr>\n",
       "    <tr>\n",
       "      <th>1990 March</th>\n",
       "      <td>153,323</td>\n",
       "    </tr>\n",
       "    <tr>\n",
       "      <th>1990 April</th>\n",
       "      <td>158,684</td>\n",
       "    </tr>\n",
       "    <tr>\n",
       "      <th>1990 May</th>\n",
       "      <td>169,382</td>\n",
       "    </tr>\n",
       "    <tr>\n",
       "      <th>...</th>\n",
       "      <td>...</td>\n",
       "    </tr>\n",
       "    <tr>\n",
       "      <th>2023 February</th>\n",
       "      <td>719,495</td>\n",
       "    </tr>\n",
       "    <tr>\n",
       "      <th>2023 March</th>\n",
       "      <td>721,938</td>\n",
       "    </tr>\n",
       "    <tr>\n",
       "      <th>2023 April</th>\n",
       "      <td>743,584</td>\n",
       "    </tr>\n",
       "    <tr>\n",
       "      <th>2023 May</th>\n",
       "      <td>766,959</td>\n",
       "    </tr>\n",
       "    <tr>\n",
       "      <th>Source</th>\n",
       "      <td>NaN</td>\n",
       "    </tr>\n",
       "  </tbody>\n",
       "</table>\n",
       "<p>402 rows × 1 columns</p>\n",
       "</div>"
      ],
      "text/plain": [
       "               Average\n",
       "Time                  \n",
       "1990 January   157,461\n",
       "1990 February  145,924\n",
       "1990 March     153,323\n",
       "1990 April     158,684\n",
       "1990 May       169,382\n",
       "...                ...\n",
       "2023 February  719,495\n",
       "2023 March     721,938\n",
       "2023 April     743,584\n",
       "2023 May       766,959\n",
       "Source             NaN\n",
       "\n",
       "[402 rows x 1 columns]"
      ]
     },
     "execution_count": 162,
     "metadata": {},
     "output_type": "execute_result"
    }
   ],
   "source": [
    "df = pd.read_csv('absorb_price.csv')\n",
    "df = df[['Time','Average']].set_index('Time', drop=True)\n",
    "df"
   ]
  },
  {
   "cell_type": "code",
   "execution_count": 163,
   "id": "b5be7b90",
   "metadata": {},
   "outputs": [],
   "source": [
    "df = df.loc[df.index.str.contains('2022|2023')]"
   ]
  },
  {
   "cell_type": "code",
   "execution_count": 164,
   "id": "8e3f8858",
   "metadata": {},
   "outputs": [],
   "source": [
    "df = df.Average.str.replace(',','').astype('int64')"
   ]
  },
  {
   "cell_type": "code",
   "execution_count": 166,
   "id": "20e97b5b",
   "metadata": {},
   "outputs": [
    {
     "data": {
      "text/plain": [
       "Time\n",
       "2022 January      620090\n",
       "2022 February     630697\n",
       "2022 March        652992\n",
       "2022 April        651990\n",
       "2022 May          689070\n",
       "2022 June         683979\n",
       "2022 July         657916\n",
       "2022 August       720625\n",
       "2022 September    707905\n",
       "2022 October      690682\n",
       "2022 November     700049\n",
       "2022 December     737179\n",
       "2023 January      699978\n",
       "2023 February     719495\n",
       "2023 March        721938\n",
       "2023 April        743584\n",
       "2023 May          766959\n",
       "Name: Average, dtype: int64"
      ]
     },
     "execution_count": 166,
     "metadata": {},
     "output_type": "execute_result"
    }
   ],
   "source": [
    "df"
   ]
  },
  {
   "cell_type": "markdown",
   "id": "32571ff9",
   "metadata": {},
   "source": [
    "## Feature 3 Complete: AVG. Absorbiton Price of Single Family/Attached Homes"
   ]
  },
  {
   "cell_type": "code",
   "execution_count": null,
   "id": "4d4f23b7",
   "metadata": {},
   "outputs": [],
   "source": [
    "# Feature 4: "
   ]
  }
 ],
 "metadata": {
  "kernelspec": {
   "display_name": "Python 3 (ipykernel)",
   "language": "python",
   "name": "python3"
  },
  "language_info": {
   "codemirror_mode": {
    "name": "ipython",
    "version": 3
   },
   "file_extension": ".py",
   "mimetype": "text/x-python",
   "name": "python",
   "nbconvert_exporter": "python",
   "pygments_lexer": "ipython3",
   "version": "3.11.3"
  }
 },
 "nbformat": 4,
 "nbformat_minor": 5
}
